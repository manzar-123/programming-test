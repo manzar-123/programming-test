{
 "metadata": {
  "language_info": {
   "codemirror_mode": {
    "name": "ipython",
    "version": 3
   },
   "file_extension": ".py",
   "mimetype": "text/x-python",
   "name": "python",
   "nbconvert_exporter": "python",
   "pygments_lexer": "ipython3",
   "version": "3.9.4"
  },
  "orig_nbformat": 4,
  "kernelspec": {
   "name": "python3",
   "display_name": "Python 3.9.4 64-bit"
  },
  "interpreter": {
   "hash": "ab28e6eb728c7bae2f02368df95871caaef9c16344ac5482d0ffa6ec4374f86b"
  }
 },
 "nbformat": 4,
 "nbformat_minor": 2,
 "cells": [
  {
   "cell_type": "code",
   "execution_count": null,
   "metadata": {},
   "outputs": [],
   "source": [
    "data = \"From manzar.abbas@scholar.aku.edu Sat June 2021\"\n",
    "\n",
    "atpos = data.find(\"@\")\n",
    "print(atpos)\n",
    "sppos = data.find(\" \", atpos)\n",
    "print(sppos)\n",
    "domain = data[atpos+1 : sppos]\n",
    "print(domain)"
   ]
  },
  {
   "cell_type": "code",
   "execution_count": null,
   "metadata": {},
   "outputs": [],
   "source": []
  },
  {
   "cell_type": "code",
   "execution_count": 17,
   "metadata": {},
   "outputs": [
    {
     "output_type": "stream",
     "name": "stdout",
     "text": [
      "c:\\Users\\Manzar\\OneDrive - Aga Khan University\\R\\programming\n"
     ]
    }
   ],
   "source": [
    "from os import getcwd\n",
    "where_I_am = getcwd()\n",
    "print(where_I_am)"
   ]
  },
  {
   "cell_type": "code",
   "execution_count": 16,
   "metadata": {},
   "outputs": [
    {
     "output_type": "execute_result",
     "data": {
      "text/plain": [
       "datetime.date(2021, 7, 13)"
      ]
     },
     "metadata": {},
     "execution_count": 16
    }
   ],
   "source": [
    "import datetime as dt \n",
    "dt.date.today()"
   ]
  },
  {
   "cell_type": "code",
   "execution_count": null,
   "metadata": {},
   "outputs": [],
   "source": []
  }
 ]
}